{
  "cells": [
    {
      "cell_type": "code",
      "execution_count": null,
      "metadata": {
        "id": "afPCtqShZIBX"
      },
      "outputs": [],
      "source": [
        "import pandas as pd\n",
        "import json as j\n",
        "\n",
        "data = j.load(open(\"/content/data.json\", \"r\"))"
      ]
    },
    {
      "cell_type": "code",
      "execution_count": null,
      "metadata": {
        "id": "mwKCW49QO86M"
      },
      "outputs": [],
      "source": [
        "# добавить в исходную программу\n",
        "def lesson2time(lesson):\n",
        "  t = {1: {\"hours\": 9, \"minutes\": 10},\n",
        "       2: {\"hours\": 10, \"minutes\": 0},\n",
        "       3: {\"hours\": 10, \"minutes\": 55},\n",
        "       4: {\"hours\": 11, \"minutes\": 50},\n",
        "       5: {\"hours\": 12, \"minutes\": 40},\n",
        "       6: {\"hours\": 13, \"minutes\": 30},\n",
        "       7: {\"hours\": 14, \"minutes\": 20}}\n",
        "  return timedelta(**t[lesson])\n",
        "\n",
        "lesson2time(7)"
      ]
    },
    {
      "cell_type": "code",
      "execution_count": null,
      "metadata": {
        "colab": {
          "base_uri": "https://localhost:8080/"
        },
        "id": "EpHSRMpudNg9",
        "outputId": "d9e001ba-f990-45ab-9d1c-e5a5a1805ef4"
      },
      "outputs": [],
      "source": [
        "# это только для получения списка всех предметов\n",
        "\n",
        "lesson_names = []\n",
        "\n",
        "for period in data:\n",
        "  for lesson in period[\"lessons\"]:\n",
        "    if not lesson[\"name\"] in lesson_names:\n",
        "      lesson_names.append(lesson[\"name\"])\n",
        "\n",
        "sorted(lesson_names, key=lambda s: s.lower())"
      ]
    },
    {
      "cell_type": "code",
      "execution_count": null,
      "metadata": {
        "id": "uXXhTgUFhN6K"
      },
      "outputs": [],
      "source": [
        "lessons = {'Алгебра': 'Алгебра', 'Англ.яз.': 'Английский',\n",
        "           'Астрономия': 'Астрономия', 'Биология': 'Биология',\n",
        "           'География': 'География', 'Геометрия': 'Геометрия',\n",
        "           'Инф. и ИКТ': 'Информатика', 'Информатика': 'Информатика',\n",
        "           'Искус.Муз.ИЗО': 'Искусство', 'Ист.Осетии': 'История Осетии',\n",
        "           'История': 'История', 'Литература': 'Литература', 'ОБЖ': 'ОБЖ',\n",
        "           'Обществознание': 'Обществознание', 'Основы предприним.': 'ОПД',\n",
        "           'Рус. литература': 'Литература', 'Рус. язык': 'Русский',\n",
        "           'ТКО': 'Культура Осетии', 'Физика': 'Физика', 'Физкультура': 'Физкультура',\n",
        "           'Химия': 'Химия', 'Черчение': 'Черчение', 'биология электив': 'био элект',\n",
        "           'мат.электив': 'мат элект', 'предпроф': 'предпроф',\n",
        "           'род.яз и р.лит(рус.)': 'родной', 'химия электив': 'хим элект'}"
      ]
    },
    {
      "cell_type": "code",
      "execution_count": null,
      "metadata": {
        "colab": {
          "base_uri": "https://localhost:8080/"
        },
        "id": "q-Om8_B3k8v2",
        "outputId": "a6757419-5770-4896-b182-f3ecb98850cc"
      },
      "outputs": [],
      "source": [
        "for period in data:\n",
        "  for lesson in period[\"lessons\"]:\n",
        "    if lesson[\"name\"] in lessons.keys():\n",
        "      lesson[\"name\"] = lessons[lesson['name']]\n",
        "\n",
        "for period in data:\n",
        "  for lesson in period[\"lessons\"]:\n",
        "    print(lesson[\"name\"], end=\", \")\n",
        "  print()"
      ]
    },
    {
      "cell_type": "markdown",
      "metadata": {
        "id": "ezlxtHJzm52D"
      },
      "source": [
        "тут у нас уже данные с исправлеными названиями предметов"
      ]
    },
    {
      "cell_type": "code",
      "execution_count": null,
      "metadata": {
        "colab": {
          "base_uri": "https://localhost:8080/"
        },
        "id": "9pWWxiSOnZqg",
        "outputId": "9cb98b7e-9dde-4368-9fd3-45f433f6f145"
      },
      "outputs": [],
      "source": [
        "for period in data:\n",
        "  period[\"lessons\"] = [l for l in period[\"lessons\"] if len(l[\"marks\"])]"
      ]
    },
    {
      "cell_type": "markdown",
      "metadata": {
        "id": "2S3CPRJatH_r"
      },
      "source": [
        "тут мы очистились ото всех ненужных предметов"
      ]
    },
    {
      "cell_type": "code",
      "execution_count": null,
      "metadata": {
        "colab": {
          "base_uri": "https://localhost:8080/"
        },
        "id": "TwNnzwEK5cbp",
        "outputId": "7f21d9bf-4249-4eb8-cd37-a506c46705fc"
      },
      "outputs": [],
      "source": [
        "#!pip install dateparser\n",
        "import dateparser as dp\n",
        "print(int(dp.parse(\"28 ноября 2019 UTC+03\").timestamp()))"
      ]
    },
    {
      "cell_type": "code",
      "execution_count": null,
      "metadata": {
        "colab": {
          "base_uri": "https://localhost:8080/"
        },
        "id": "cRIhMsBBDCZj",
        "outputId": "33e26a5e-d32f-4d1b-86fe-82cae43a35e4"
      },
      "outputs": [],
      "source": [
        "# 28 ноября 2019\n",
        "import time\n",
        "dt.fromtimestamp(time.time()) + timedelta(hours=12)"
      ]
    },
    {
      "cell_type": "code",
      "execution_count": null,
      "metadata": {
        "id": "gma7qrEz0VO3"
      },
      "outputs": [],
      "source": [
        "from datetime import datetime as dt\n",
        "from datetime import timezone, timedelta\n",
        "start_date = min([t for x in [[m[\"time\"] for m in l[\"marks\"]] for l in data[0][\"lessons\"]] for t in x])\n",
        "marks = []\n",
        "\n",
        "for period in data:\n",
        "  for lesson in period[\"lessons\"]:\n",
        "    marks += [{\"mark\": mark[\"mark\"],\n",
        "        \t\t   \"work\": mark[\"work\"],\n",
        "        \t\t   \"date\": mark[\"date\"],\n",
        "        \t\t   \"time\": mark[\"time\"],\n",
        "               \"day\": (mark[\"time\"]-start_date)//60//60//24,\n",
        "               \"weekday\": (dt.fromtimestamp(mark[\"time\"])+timedelta(hours=12)).weekday(),\n",
        "        \t\t   \"lesson\": mark[\"lesson\"],\n",
        "               \"subject\": lesson[\"name\"],\n",
        "               \"form\": period[\"form\"],\n",
        "               \"period\": period[\"period\"],\n",
        "               \"form-period\": period[\"name\"]} \\\n",
        "              for mark in lesson[\"marks\"]]\n",
        "\n",
        "marks"
      ]
    },
    {
      "cell_type": "code",
      "execution_count": null,
      "metadata": {
        "id": "-ebjQ4K94g-9"
      },
      "outputs": [],
      "source": [
        "pd.DataFrame(marks)"
      ]
    },
    {
      "cell_type": "code",
      "execution_count": null,
      "metadata": {
        "colab": {
          "base_uri": "https://localhost:8080/",
          "height": 536
        },
        "id": "wp2co7LR4czb",
        "outputId": "9ba1a9ae-2cff-4232-a553-d58fdc5a8557"
      },
      "outputs": [],
      "source": [
        "import altair as alt\n",
        "import pandas as pd\n",
        "\n",
        "vals = ['2', '3', '3-', '4', '4+', '4-', '5', '5-', 'Б', 'Н', 'П']\n",
        "cols = ['#e45756', '#f58518', '#ed6e37', '#54a24b', '#88d27a', '#f2cf5b', '#4c78a8', '#439894', '#756bb1', '#a55194', '#9e765f']\n",
        "\n",
        "alt.Chart(pd.DataFrame(marks)).mark_rect().encode(\n",
        "    x=alt.X('day:O'), #, axis=None\n",
        "    y='subject',\n",
        "    color=alt.Color('mark:N', scale=alt.Scale(domain=vals, range=cols)),\n",
        "    tooltip=[\"period\", \"lesson\", \"mark\"]\n",
        ")"
      ]
    },
    {
      "cell_type": "markdown",
      "metadata": {
        "id": "AA3fffUl0R2-"
      },
      "source": [
        "пытаюсь визуализировать"
      ]
    },
    {
      "cell_type": "code",
      "execution_count": null,
      "metadata": {
        "id": "lV7Yr6Qh1LUU"
      },
      "outputs": [],
      "source": [
        "calc_per = lambda s: int(s.split(\"-\")[0]) + (int(s.split(\"-\")[1])-1)/4 if int(s.split(\"-\")[0]) < 10 else int(s.split(\"-\")[0]) + (int(s.split(\"-\")[1])-1)/2"
      ]
    },
    {
      "cell_type": "code",
      "execution_count": null,
      "metadata": {
        "id": "j0fUoSCltN7U"
      },
      "outputs": [],
      "source": [
        "import altair as alt\n",
        "import pandas as pd\n",
        "\n",
        "arr = []\n",
        "for period in data:\n",
        "  for lesson in period[\"lessons\"]:\n",
        "    arr.append({\"period\": calc_per(period[\"name\"]),\"lesson\": lesson[\"name\"], \"marks\": len(lesson[\"marks\"])})\n",
        "\n",
        "arr = pd.DataFrame(arr)\n",
        "\n",
        "alt.Chart(arr).mark_rect().encode(\n",
        "    x='period:O',\n",
        "    y='lesson',\n",
        "    color='marks',\n",
        "    tooltip=[\"period\", \"lesson\", \"marks\"]\n",
        ")"
      ]
    }
  ],
  "metadata": {
    "colab": {
      "collapsed_sections": [],
      "name": "marks data reparser",
      "provenance": []
    },
    "kernelspec": {
      "display_name": "Python 3",
      "name": "python3"
    },
    "language_info": {
      "name": "python"
    }
  },
  "nbformat": 4,
  "nbformat_minor": 0
}
