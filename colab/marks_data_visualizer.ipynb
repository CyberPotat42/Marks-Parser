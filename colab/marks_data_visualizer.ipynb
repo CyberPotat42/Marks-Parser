{
  "cells": [
    {
      "cell_type": "code",
      "execution_count": null,
      "metadata": {
        "colab": {
          "base_uri": "https://localhost:8080/"
        },
        "id": "I2Gq5W1R1XsZ",
        "outputId": "76cfd915-cd30-4683-d1ea-64bd305bedaa"
      },
      "outputs": [],
      "source": [
        "!git clone https://github.com/DenCoder618/Marks-Parser\n",
        "!cd Marks-Parser"
      ]
    },
    {
      "cell_type": "code",
      "execution_count": null,
      "metadata": {
        "colab": {
          "base_uri": "https://localhost:8080/"
        },
        "id": "9dygdR-2nx2K",
        "outputId": "3fbf7607-a766-47f7-b0fd-bbd14bbf71d1"
      },
      "outputs": [],
      "source": [
        "import json as j\n",
        "data = j.loads(open(\"/content/Marks-Parser/data.json\", \"r\", encoding=\"utf-8\").read())\n",
        "print(data[0])"
      ]
    },
    {
      "cell_type": "code",
      "execution_count": null,
      "metadata": {
        "colab": {
          "base_uri": "https://localhost:8080/"
        },
        "id": "zbZige5tod51",
        "outputId": "53bc8300-b3da-4ce9-afc8-057a56d420d1"
      },
      "outputs": [],
      "source": [
        "marks = []\n",
        "\n",
        "for period in data:\n",
        "  for lesson in period[\"lessons\"]:\n",
        "    marks += lesson[\"marks\"]\n",
        "    \n",
        "print(marks)"
      ]
    },
    {
      "cell_type": "code",
      "execution_count": null,
      "metadata": {
        "colab": {
          "base_uri": "https://localhost:8080/"
        },
        "id": "zoAjE4OH09qt",
        "outputId": "054fde44-c8bc-4687-cc9b-17764ed6f15d"
      },
      "outputs": [],
      "source": [
        "ts = [m[\"time\"] for m in marks]\n",
        "marks_arr = sorted([(m[\"mark\"][0], (m[\"time\"]-min(ts))/(max(ts)-min(ts))) \\\n",
        "                    for m in marks],\n",
        "                   key=lambda x: x[1])\n",
        "\n",
        "print(marks_arr)"
      ]
    },
    {
      "cell_type": "code",
      "execution_count": null,
      "metadata": {
        "colab": {
          "base_uri": "https://localhost:8080/",
          "height": 265
        },
        "id": "qXDLLWuw2_f1",
        "outputId": "ab72b551-a3e3-475a-8711-2d9bcbd15dc5"
      },
      "outputs": [],
      "source": [
        "import matplotlib.pyplot as plt\n",
        "\n",
        "fig, ax = plt.subplots()\n",
        "\n",
        "colors = {\"5\": \"tab:green\",\n",
        "          \"4\": \"tab:olive\",\n",
        "          \"3\": \"tab:orange\",\n",
        "          \"2\": \"tab:red\",\n",
        "          \"1\": \"tab:purple\",\n",
        "          \"П\": \"tab:brown\",\n",
        "          \"Б\": \"tab:blue\",\n",
        "          \"Н\": \"tab:brown\"}\n",
        "\n",
        "for i in marks_arr:\n",
        "    y, x = i\n",
        "    ax.scatter(x, y, c=colors[y])\n",
        "\n",
        "plt.show()"
      ]
    },
    {
      "cell_type": "code",
      "execution_count": null,
      "metadata": {
        "colab": {
          "base_uri": "https://localhost:8080/"
        },
        "id": "N_TWkr5HsVEH",
        "outputId": "92e70c93-7e92-4680-c75c-871f297163b0"
      },
      "outputs": [],
      "source": [
        "works = []\n",
        "warr = {}\n",
        "\n",
        "for mark in marks:\n",
        "  if not mark[\"work\"] in works:\n",
        "    works.append(mark[\"work\"])\n",
        "    warr.update({mark[\"work\"]:1})\n",
        "  else:\n",
        "    warr.update({mark[\"work\"]:warr[mark[\"work\"]]+1})\n",
        "\n",
        "works = sorted(works)\n",
        "warr = {k: v for k, v in sorted(warr.items(),\n",
        "                                key=lambda item: item[1],\n",
        "                                reverse=True)}\n",
        "\n",
        "print(j.dumps(warr, indent=1, ensure_ascii=False))"
      ]
    },
    {
      "cell_type": "code",
      "execution_count": null,
      "metadata": {
        "colab": {
          "base_uri": "https://localhost:8080/",
          "height": 265
        },
        "id": "Sa0BQNgnwzfH",
        "outputId": "ebb9e5d1-d4c2-4b31-a562-c4d9d7bbeffd"
      },
      "outputs": [],
      "source": [
        "import matplotlib.pyplot as plt\n",
        "\n",
        "names = list(warr.keys())[2:-15]\n",
        "values = list(warr.values())[2:-15]\n",
        "\n",
        "fig, axs = plt.subplots()\n",
        "axs.barh(names, values)\n",
        "axs.invert_yaxis()\n",
        "#fig.suptitle('Оценки по типам работ')"
      ]
    },
    {
      "cell_type": "code",
      "execution_count": null,
      "metadata": {
        "id": "l6x7Pi7EsnLh"
      },
      "outputs": [],
      "source": [
        "print(j.dumps(works, indent=1, ensure_ascii=False))"
      ]
    },
    {
      "cell_type": "markdown",
      "metadata": {
        "id": "hb8j7-1f2jKI"
      },
      "source": [
        "Пробуем в Pandas"
      ]
    },
    {
      "cell_type": "code",
      "execution_count": null,
      "metadata": {
        "colab": {
          "base_uri": "https://localhost:8080/",
          "height": 204
        },
        "id": "Poz61uqH2m9F",
        "outputId": "f895acb2-b148-4823-e6a3-56126551f211"
      },
      "outputs": [],
      "source": [
        "import pandas as pd\n",
        "data = {'color' : ['blue', 'green', 'yellow', 'red', 'white'],\n",
        "        'object' : ['ball', 'pen', 'pencil', 'paper', 'mug'],\n",
        "        'price' : [1.2, 1.0, 0.6, 0.9, 1.7]}\n",
        "frame = pd.DataFrame(data)\n",
        "frame"
      ]
    },
    {
      "cell_type": "code",
      "execution_count": null,
      "metadata": {
        "colab": {
          "base_uri": "https://localhost:8080/"
        },
        "id": "_7nnSzKL2yeM",
        "outputId": "4c9036df-3719-47fb-84b7-89028390217c"
      },
      "outputs": [],
      "source": [
        "print(marks)"
      ]
    },
    {
      "cell_type": "code",
      "execution_count": null,
      "metadata": {
        "colab": {
          "base_uri": "https://localhost:8080/",
          "height": 419
        },
        "id": "13zPbfxi3EGX",
        "outputId": "27c884cb-6bb9-4df5-8c4d-c821d029e34f"
      },
      "outputs": [],
      "source": [
        "frame = pd.DataFrame(marks)\n",
        "frame"
      ]
    },
    {
      "cell_type": "code",
      "execution_count": null,
      "metadata": {
        "id": "DeAXI-BY7D7_"
      },
      "outputs": [],
      "source": [
        "ts = min([m[\"time\"] for m in marks])\n",
        "arr = sorted([{\"mark\": m[\"mark\"], \"time\": (m[\"time\"]-ts)//100} for m in marks], \n",
        "             key=lambda x: x[\"time\"])\n",
        "arr = pd.DataFrame(arr)"
      ]
    },
    {
      "cell_type": "code",
      "execution_count": null,
      "metadata": {
        "colab": {
          "base_uri": "https://localhost:8080/"
        },
        "id": "dz5p_p7i7jJG",
        "outputId": "b4746d6b-d2a7-45eb-8e33-2f49537bfb8c"
      },
      "outputs": [],
      "source": [
        "print(arr)"
      ]
    },
    {
      "cell_type": "code",
      "execution_count": null,
      "metadata": {
        "colab": {
          "base_uri": "https://localhost:8080/",
          "height": 419
        },
        "id": "f7Fl_t7aN0fF",
        "outputId": "3d167274-bf07-4d4f-9ca6-8b2c0fd4d78d"
      },
      "outputs": [],
      "source": [
        "pd.DataFrame(marks)"
      ]
    },
    {
      "cell_type": "code",
      "execution_count": null,
      "metadata": {
        "colab": {
          "base_uri": "https://localhost:8080/",
          "height": 129
        },
        "id": "EM2A7oS_6Fo4",
        "outputId": "cf66ef01-8655-4f75-dbe9-f4cff907937a"
      },
      "outputs": [],
      "source": [
        "ts = min([m[\"time\"] for m in marks])\n",
        "marks_arr = pd.DataFrame(sorted({\"mark\": [m[\"mark\"],\n",
        "                                 \"time\": m[\"time\"]-ts,\n",
        "                                 \"date\": m[\"date\"],\n",
        "                                 \"work\": m[\"work\"]} \\\n",
        "                                 for m in marks],\n",
        "                                key=lambda x: x[\"time\"]))\n",
        "print(marks_arr)"
      ]
    },
    {
      "cell_type": "code",
      "execution_count": null,
      "metadata": {
        "colab": {
          "base_uri": "https://localhost:8080/",
          "height": 863
        },
        "id": "Uda11sVGTG2b",
        "outputId": "10d5558a-27e0-4041-c227-c0839746c584"
      },
      "outputs": [],
      "source": [
        "import pandas as pd\n",
        "import altair as alt\n",
        "\n",
        "ts = min([m[\"time\"] for m in marks])\n",
        "arr = sorted([{\"mark\": m[\"mark\"][0], \"time\": (m[\"time\"]-ts)//60//60//24, \"date\": m[\"date\"], \"work\": m[\"work\"]} for m in marks], \n",
        "             key=lambda x: x[\"time\"])\n",
        "arr = pd.DataFrame(arr)\n",
        "\n",
        "alt.Chart(arr).mark_circle(size=50).encode(\n",
        "  x='time',\n",
        "  y='work',\n",
        "  color='mark',\n",
        "  tooltip=[\"date\", \"work\", \"mark\"]\n",
        ").interactive() #.properties(width=800, height=300)"
      ]
    },
    {
      "cell_type": "code",
      "execution_count": null,
      "metadata": {
        "colab": {
          "base_uri": "https://localhost:8080/",
          "height": 363
        },
        "id": "feCiTP973n5v",
        "outputId": "d59865c0-9eca-480f-f2a3-885d8d69941a"
      },
      "outputs": [],
      "source": [
        "import pandas as pd\n",
        "import altair as alt\n",
        "\n",
        "ts = min([m[\"time\"] for m in marks])\n",
        "arr = sorted([{\"mark\": m[\"mark\"][0], \"time\": (m[\"time\"]-ts)//60//60//24, \"date\": m[\"date\"], \"work\": m[\"work\"]} for m in marks], \n",
        "             key=lambda x: x[\"time\"])\n",
        "arr = pd.DataFrame(arr)\n",
        "\n",
        "alt.Chart(arr).mark_circle(size=100).encode(\n",
        "  x='time',\n",
        "  y='mark',\n",
        "  color='mark',\n",
        "  tooltip=[\"date\", \"work\", \"mark\"]\n",
        ").properties(width=800, height=300).interactive()"
      ]
    },
    {
      "cell_type": "code",
      "execution_count": null,
      "metadata": {
        "colab": {
          "base_uri": "https://localhost:8080/",
          "height": 392
        },
        "id": "a9593p3U3iNS",
        "outputId": "2061cffb-f3cb-421e-a1b1-405e4f37a44c"
      },
      "outputs": [],
      "source": [
        "import altair as alt\n",
        "import pandas as pd\n",
        "import numpy as np\n",
        "\n",
        "rand = np.random.RandomState(42)\n",
        "\n",
        "df = pd.DataFrame({\n",
        "    'xval': range(100),\n",
        "    'yval': rand.randn(100).cumsum()\n",
        "})\n",
        "\n",
        "slider = alt.binding_range(min=0, max=100, step=1, name='cutoff:')\n",
        "selector = alt.selection_single(name=\"SelectorName\", fields=['cutoff'],\n",
        "                                bind=slider, init={'cutoff': 50})\n",
        "\n",
        "alt.Chart(df).mark_point().encode(\n",
        "    x='xval',\n",
        "    y='yval',\n",
        "    color=alt.condition(\n",
        "        alt.datum.xval < selector.cutoff,\n",
        "        alt.value('red'), alt.value('blue')\n",
        "    )\n",
        ").add_selection(\n",
        "    selector\n",
        ")"
      ]
    },
    {
      "cell_type": "code",
      "execution_count": null,
      "metadata": {
        "id": "FAyO6e15SuLA"
      },
      "outputs": [],
      "source": [
        "input_dropdown = alt.binding_select(options=['Europe','Japan','USA'])\n",
        "selection = alt.selection_single(fields=['Origin'], bind=input_dropdown, name='Country of ')\n",
        "color = alt.condition(selection,\n",
        "                    alt.Color('Origin:N', legend=None),\n",
        "                    alt.value('lightgray'))\n",
        "\n",
        "alt.Chart(cars).mark_point().encode(\n",
        "    x='Horsepower:Q',\n",
        "    y='Miles_per_Gallon:Q',\n",
        "    color=color,\n",
        "    tooltip='Name:N'\n",
        ").add_selection(\n",
        "    selection\n",
        ")"
      ]
    }
  ],
  "metadata": {
    "colab": {
      "collapsed_sections": [],
      "name": "Marks data visualizer",
      "provenance": []
    },
    "kernelspec": {
      "display_name": "Python 3",
      "name": "python3"
    },
    "language_info": {
      "name": "python"
    }
  },
  "nbformat": 4,
  "nbformat_minor": 0
}
