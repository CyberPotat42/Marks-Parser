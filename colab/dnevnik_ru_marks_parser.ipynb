{
  "cells": [
    {
      "cell_type": "markdown",
      "metadata": {
        "id": "k3rJRqx6npQy"
      },
      "source": [
        "# Тест 1"
      ]
    },
    {
      "cell_type": "code",
      "execution_count": null,
      "metadata": {
        "colab": {
          "base_uri": "https://localhost:8080/"
        },
        "id": "H0aB62Iv8cS7",
        "outputId": "b671bfa0-8353-40c7-c5e9-f96a49d5f5a4"
      },
      "outputs": [],
      "source": [
        "import json as j\n",
        "\n",
        "with open(\"/content/data.json\", \"r\", encoding=\"Windows-1251\") as file:\n",
        "  data = j.loads(file.read())\n",
        "\n",
        "marks = {\"8-1\" : [], \"8-2\" : [], \"8-3\" : [], \"8-4\" : [],\n",
        "         \"9-1\" : [], \"9-2\" : [], \"9-3\" : [], \"9-4\" : [],\n",
        "         \"10-1\": [], \"10-2\": [], \"11-1\": [], \"11-2\": []}\n",
        "\n",
        "for period in data:\n",
        "  for lesson in period[\"lessons\"]:\n",
        "    marks[period[\"name\"]] += \\\n",
        "    [mark[\"mark\"].replace(\"-\",\"\").replace(\"+\",\"\") \\\n",
        "     for mark in lesson[\"marks\"] \\\n",
        "     if not mark[\"mark\"] in [\"П\", \"Н\", \"Б\"]]\n",
        "\n",
        "def get_aver(l):\n",
        "  summ = 0\n",
        "  for i in l:\n",
        "    summ += int(i)\n",
        "  return summ / len(l)\n",
        "\n",
        "avers = [get_aver(marr) for marr in marks.values()]\n",
        "# avers = [sum(marr) / len(marr) for marr in marks.values()]\n",
        "\n",
        "period_arr = list(marks.keys())\n",
        "print(avers)"
      ]
    },
    {
      "cell_type": "code",
      "execution_count": null,
      "metadata": {
        "colab": {
          "base_uri": "https://localhost:8080/",
          "height": 295
        },
        "id": "pYK9Ej2Aji9U",
        "outputId": "3b10fa71-9d71-493f-ac56-923e1a47c9f6"
      },
      "outputs": [],
      "source": [
        "import matplotlib.pyplot as plt\n",
        "\n",
        "fig, ax = plt.subplots()\n",
        "ax.plot(period_arr, avers)\n",
        "\n",
        "ax.set(xlabel='Четверти', ylabel='Средний балл за период', title=\"Средний балл за четверти с 8 по 11 класс\")\n",
        "ax.grid()\n",
        "\n",
        "fig.savefig(\"test1.png\")\n",
        "plt.show()"
      ]
    },
    {
      "cell_type": "markdown",
      "metadata": {
        "id": "aCPxfptsUGgV"
      },
      "source": [
        "# Вычисляем изменение среднегодового балла"
      ]
    },
    {
      "cell_type": "code",
      "execution_count": null,
      "metadata": {
        "colab": {
          "base_uri": "https://localhost:8080/"
        },
        "id": "RVnegDEaHZOY",
        "outputId": "96d18f04-5420-4622-c65c-6a62782cda30"
      },
      "outputs": [],
      "source": [
        "aver_marks = []\n",
        "for p in [\"8\", \"9\", \"10\", \"11\"]:\n",
        "  summ = 0\n",
        "  for m in marks[p]:\n",
        "    summ += int(m)\n",
        "  aver_marks.append(summ / len(marks[p]))\n",
        "\n",
        "print(aver_marks)"
      ]
    },
    {
      "cell_type": "code",
      "execution_count": null,
      "metadata": {
        "colab": {
          "base_uri": "https://localhost:8080/",
          "height": 295
        },
        "id": "FTuLQAfOOLRw",
        "outputId": "583a5ed3-a663-4749-c647-1119c2e16eb3"
      },
      "outputs": [],
      "source": [
        "import matplotlib.pyplot as plt\n",
        "\n",
        "# Data for plotting\n",
        "t = range(8, 12)\n",
        "\n",
        "fig, ax = plt.subplots()\n",
        "ax.plot(t, aver_marks)\n",
        "\n",
        "ax.set(xlabel='Класс', ylabel='Средний балл за год', title=\"Средний балл с 8 по 11 класс\")\n",
        "ax.grid()\n",
        "\n",
        "fig.savefig(\"test.png\")\n",
        "plt.show()"
      ]
    },
    {
      "cell_type": "markdown",
      "metadata": {
        "id": "H3K8wxqmUFZm"
      },
      "source": [
        "# Вычисляем изменение средних баллов по предметам"
      ]
    },
    {
      "cell_type": "code",
      "execution_count": null,
      "metadata": {
        "colab": {
          "base_uri": "https://localhost:8080/"
        },
        "id": "TJksbgwHaG7b",
        "outputId": "a393f480-3790-4e56-a445-141c9baf173c"
      },
      "outputs": [],
      "source": [
        "lessons_arr, marr = [], []\n",
        "for period in data:\n",
        "  for lesson in period[\"lessons_marks\"]:\n",
        "    # marks_arr = [mark[\"mark\"].replace(\"-\",\"\").replace(\"+\",\"\") \\\n",
        "    #              for mark in lesson[\"marks\"] \\\n",
        "    #              if not mark[\"mark\"] in [\"П\", \"Н\", \"Б\"]]\n",
        "    \n",
        "    if not lesson[\"name\"] in lessons_arr:\n",
        "      lessons_arr.append(lesson[\"name\"])\n",
        "      marr.append(lesson[\"aver\"])\n",
        "\n",
        "print(lessons_arr)"
      ]
    },
    {
      "cell_type": "code",
      "execution_count": null,
      "metadata": {
        "id": "Tovq53Asda9e"
      },
      "outputs": [],
      "source": [
        "fig, ax = plt.subplots()\n",
        "ax.plot(lessons_arr, marr)\n",
        "\n",
        "ax.set(xlabel='Класс', ylabel='Средний балл за год', title=\"Средний балл с 8 по 11 класс\")\n",
        "ax.grid()\n",
        "\n",
        "fig.savefig(\"test1.png\")\n",
        "plt.show()"
      ]
    }
  ],
  "metadata": {
    "colab": {
      "collapsed_sections": [],
      "name": "dnevnik-ru-Marks-parser",
      "provenance": [],
      "toc_visible": true
    },
    "kernelspec": {
      "display_name": "Python 3",
      "name": "python3"
    },
    "language_info": {
      "name": "python"
    }
  },
  "nbformat": 4,
  "nbformat_minor": 0
}
